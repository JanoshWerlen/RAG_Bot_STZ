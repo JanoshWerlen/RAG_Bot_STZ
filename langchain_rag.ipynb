{
 "cells": [
  {
   "cell_type": "markdown",
   "metadata": {},
   "source": [
    "# Interactive Introduction to ML and AI with a RAG-System\n",
    "\n",
    "Based on a PDF containing a starter set of DND 5e character [sheets](https://dnd5echaractersheet.com/)\n"
   ]
  },
  {
   "cell_type": "markdown",
   "metadata": {},
   "source": [
    "## sys admin\n",
    "\n",
    "Create a .env file with the following content:\n",
    "\n",
    "`OPENAI_API_KEY = \"^<API_KEY>\"`"
   ]
  },
  {
   "cell_type": "code",
   "execution_count": 1,
   "metadata": {},
   "outputs": [],
   "source": [
    "import openai\n",
    "import os\n",
    "from dotenv import load_dotenv\n",
    "from langchain.document_loaders import PyPDFLoader\n",
    "from langchain.chains import RetrievalQA\n",
    "from langchain_openai import ChatOpenAI\n",
    "from langchain_openai import OpenAIEmbeddings\n",
    "from langchain.text_splitter import RecursiveCharacterTextSplitter\n",
    "from langchain.vectorstores import Chroma\n",
    "from langchain_community.document_loaders import TextLoader\n",
    "from langchain_community.embeddings.sentence_transformer import (\n",
    "    SentenceTransformerEmbeddings,\n",
    ")"
   ]
  },
  {
   "cell_type": "markdown",
   "metadata": {},
   "source": [
    "## Load PDF data\n",
    "Loads the data and splits it into chunks.\n",
    "Each chunk contains 1000 characters max with a max overlap of 100 characters."
   ]
  },
  {
   "cell_type": "code",
   "execution_count": 2,
   "metadata": {},
   "outputs": [],
   "source": [
    "text_splitter = RecursiveCharacterTextSplitter(chunk_size=1000, chunk_overlap=100)\n",
    "loader = PyPDFLoader(\"data/KAR.pdf\")\n",
    "chunks = loader.load_and_split(text_splitter)"
   ]
  },
  {
   "cell_type": "markdown",
   "metadata": {},
   "source": [
    "### Check the chunks\n",
    "get chunk content with: chunks[index].page_content"
   ]
  },
  {
   "cell_type": "code",
   "execution_count": 3,
   "metadata": {},
   "outputs": [
    {
     "name": "stdout",
     "output_type": "stream",
     "text": [
      "page_content='177.4001Reglement über die Anstellungsverhältnisse \\nvon Kaderärztinnen und -ärzten in den Stadt -\\nspitälern (Kaderärztinnen- und -ärzteregle -\\nment, KAR)\\nStadtratsbeschluss vom 26. Januar 2005 (91)  \\nmit Änderung vom 16.  November 2016 (922)\\nGestützt auf Art. 58, Art. 81 Abs. 1 und Art. 87 Abs. 1 des Perso -\\nnalrechts (PR) vom 28. November 2001 wird folgendes Regle -\\nment erlassen:\\nArt. 1 Geltungsbereich\\n1 Dieses Reglement gilt für die in den Stadtspitälern Waid und \\nTriemli angestellten Kaderärztinnen und -ärzte, mit Ausnahme \\nder Chefärztinnen und -ärzte.\\n2 Als Kaderärztinnen und -ärzte im Sinne dieser Bestimmungen \\ngelten Leitende Ärztinnen und Ärzte.1\\n3 Die Vorsteherin bzw. der Vorsteher des Gesundheits- und Um -\\nweltdepartements kann das Reglement auch für Kaderärztinnen \\nund -ärzte in anderen städtischen Betrieben mit Spitalcharakter \\nanwendbar erklären.\\n4 Das Reglement gilt nicht für Kaderärztinnen und -ärzte in Ver -\\nwaltungs- oder anderen nichtärztlichen Funktionen.' metadata={'source': 'data/KAR.pdf', 'page': 0}\n",
      "The chunk contains 988 characters\n"
     ]
    }
   ],
   "source": [
    "print(chunks[0])\n",
    "print(\"The chunk contains \" + str(len(chunks[2].page_content)) + \" characters\")"
   ]
  },
  {
   "cell_type": "markdown",
   "metadata": {},
   "source": [
    "## Setup models\n",
    "\n",
    "We need to prepare an embedding model to vectorise our chunks before storing them into our ChromaDB and a language model to generate answers to our questions."
   ]
  },
  {
   "cell_type": "code",
   "execution_count": 4,
   "metadata": {},
   "outputs": [],
   "source": [
    "# Load environment variables from .env file\n",
    "load_dotenv()\n",
    "\n",
    "# Access the API key using the variable name defined in the .env file\n",
    "openai.api_key = os.getenv(\"OPENAI_API_KEY\")\n",
    "\n",
    "# Initialize the OpenAI chat model\n",
    "llm = ChatOpenAI(model_name=\"gpt-3.5-turbo\", temperature=0.8)\n",
    "\n",
    "# initialize the OpenAI embeddings model\n",
    "embeddings = OpenAIEmbeddings()"
   ]
  },
  {
   "cell_type": "markdown",
   "metadata": {},
   "source": [
    "### Load / Create Chroma DB\n",
    "\n",
    "We check for the existence of the directory for 2 reasons:\n",
    "1) We use Openai Embeddings and pay for the embedding generation\n",
    "2) Chroma does not overwrite an existing database, but allows to upate it"
   ]
  },
  {
   "cell_type": "code",
   "execution_count": 6,
   "metadata": {},
   "outputs": [
    {
     "name": "stdout",
     "output_type": "stream",
     "text": [
      "Loading Chroma from disk...\n"
     ]
    }
   ],
   "source": [
    "if os.path.exists(\"chroma\"):\n",
    "    print(\"Loading Chroma from disk...\")\n",
    "    chroma_db = Chroma(persist_directory=\"chroma\", embedding_function=embeddings)\n",
    "else:\n",
    "    chroma_db = Chroma.from_documents(documents=chunks,\n",
    "                                    embedding=embeddings,\n",
    "                                    persist_directory=\"chroma\",\n",
    "                                    collection_name=\"lc_chroma_demo\")\n",
    "    "
   ]
  },
  {
   "cell_type": "code",
   "execution_count": 14,
   "metadata": {},
   "outputs": [],
   "source": [
    "chroma_db = Chroma.from_documents(documents=chunks,\n",
    "                                    embedding=embeddings,\n",
    "                                    persist_directory=\"chroma\",\n",
    "                                    collection_name=\"lc_chroma_demo\")"
   ]
  },
  {
   "cell_type": "code",
   "execution_count": 11,
   "metadata": {},
   "outputs": [
    {
     "name": "stdout",
     "output_type": "stream",
     "text": [
      "Loading Chroma\n"
     ]
    }
   ],
   "source": [
    "if os.path.exists(\"chroma_db\"):\n",
    "    print(\"Loading Chroma\")\n",
    "    chroma_db =Chroma(persist_directory=\"chroma_db\", embedding_function= embeddings )\n",
    "else: \n",
    "    print(\"Creat new Chroma\")\n",
    "    chroma_db = Chroma.from_documents(chunks, embeddings, persist_directory=\"chroma_db\")"
   ]
  },
  {
   "cell_type": "markdown",
   "metadata": {},
   "source": [
    "### Test Your Database"
   ]
  },
  {
   "cell_type": "code",
   "execution_count": 12,
   "metadata": {},
   "outputs": [],
   "source": [
    "query = \"What is this document about?\""
   ]
  },
  {
   "cell_type": "markdown",
   "metadata": {},
   "source": [
    "Simple Similarity Search"
   ]
  },
  {
   "cell_type": "code",
   "execution_count": 13,
   "metadata": {},
   "outputs": [
    {
     "name": "stdout",
     "output_type": "stream",
     "text": [
      "[Document(page_content='54 Bei der Ermittlung der Ist-Arbeitszeit sind Abwesenheiten mit \\nLohnanspruch (infolge von Krankheit, Unfall, Militär- oder Zivil -\\nschutzdienst, bezahltem Urlaub usw.) nicht als Arbeitszeit an -\\nzurechnen, wenn sie auf geplante Ruhetage oder, bei Fehlen \\neiner Planung, wenn sie auf Samstage, Sonntage sowie auf Fei -\\ner- oder Betriebsferientage fallen.\\nArt. 8 Inkonvenienzentschädigungen\\nDie Vorsteherin bzw. der Vorsteher des Gesundheits- und Um -\\nweltdepartements wird ermächtigt, Inkonvenienzentschädigungen \\nunter Berücksichtung der kantonalen Regelungen festzusetzen.\\nArt. 9 Schlussbestimmungen\\n1 Dieses Reglement tritt auf den 1. Februar 2005 in Kraft.\\n2 Mit dem Inkrafttreten dieses Reglements wird das Reglement \\nüber die Anstellungsverhältnisse von Kaderärztinnen und -ärz -\\nten in den Stadtspitälern vom 18.  Dezember 2002 aufgehoben.\\nArt. 10 (aufgehoben)4 \\n4 Fassung gem. STRB Nr. 922/2016 vom 16. November 2016; Inkraftsetzung \\n1. Januar 2017.', metadata={'page': 4, 'source': 'data/KAR.pdf'}), Document(page_content='177.4001Reglement über die Anstellungsverhältnisse \\nvon Kaderärztinnen und -ärzten in den Stadt -\\nspitälern (Kaderärztinnen- und -ärzteregle -\\nment, KAR)\\nStadtratsbeschluss vom 26. Januar 2005 (91)  \\nmit Änderung vom 16.  November 2016 (922)\\nGestützt auf Art. 58, Art. 81 Abs. 1 und Art. 87 Abs. 1 des Perso -\\nnalrechts (PR) vom 28. November 2001 wird folgendes Regle -\\nment erlassen:\\nArt. 1 Geltungsbereich\\n1 Dieses Reglement gilt für die in den Stadtspitälern Waid und \\nTriemli angestellten Kaderärztinnen und -ärzte, mit Ausnahme \\nder Chefärztinnen und -ärzte.\\n2 Als Kaderärztinnen und -ärzte im Sinne dieser Bestimmungen \\ngelten Leitende Ärztinnen und Ärzte.1\\n3 Die Vorsteherin bzw. der Vorsteher des Gesundheits- und Um -\\nweltdepartements kann das Reglement auch für Kaderärztinnen \\nund -ärzte in anderen städtischen Betrieben mit Spitalcharakter \\nanwendbar erklären.\\n4 Das Reglement gilt nicht für Kaderärztinnen und -ärzte in Ver -\\nwaltungs- oder anderen nichtärztlichen Funktionen.', metadata={'page': 0, 'source': 'data/KAR.pdf'}), Document(page_content='2Art. 3 Honorare der Kaderärztinnen und -ärzte\\n1 Die Honorarberechtigung und -bewilligung wird separat geregelt.\\n2 Kaderärztinnen und -ärzte können auf die Honorarbewilligung \\nverzichten. Wird der Verzicht nicht bereits bei der Anstellung \\noder einem Funktionsstufenwechsel erklärt, so kann die ent -\\nsprechende Erklärung unter Wahrung einer dreimonatigen Frist \\nauf den Beginn eines Quartals schriftlich erfolgen. Die gleichen \\nFristen gelten für einen Widerruf des Verzichts.\\n3 Der Verzicht auf die Honorarbewilligung bewirkt nicht den \\nVerlust des Rechts, in Absprache mit der Chefärztin oder dem \\nChefarzt Privat- oder Halbprivatpatientinnen und -patienten zu \\nbehandeln, und führt auch nicht zu Änderungen in der Rech -\\nnungsstellung, sondern hat lediglich zur Folge, dass die entspre -\\nchenden Honorarguthaben voll dem Spital zufallen.\\nArt. 4 Arbeitszeit\\n1 Die Höchstarbeitszeit der Kaderärztinnen und -ärzte mit Hono -\\nrarbewilligung beträgt im Quartalsdurchschnitt 65  Stunden pro', metadata={'page': 1, 'source': 'data/KAR.pdf'}), Document(page_content='rarbewilligung beträgt im Quartalsdurchschnitt 65  Stunden pro \\nWoche, jene der Kaderärztinnen und -ärzte ohne Honorarbe -\\nwilligung 55 Stunden. Die Chefärztinnen oder Chefärzte können \\nfür ihre Klinik oder ihr Institut der Spitalleitung Antrag auf Her -\\nabsetzung der Höchstarbeitszeiten auf bis 55 bzw. 50 Stunden \\nstellen, wenn es die betrieblichen Verhältnisse erlauben.\\n2 Für die Fortbildung haben die Kaderärztinnen und -ärzte An -\\nspruch auf höchstens zehn Arbeitstage pro Facharzttitel und \\nJahr.\\n3 Die ununterbrochene Anwesenheit im Betrieb darf grundsätz -\\nlich 24  Stunden nicht überschreiten; Notfälle bleiben vorbehal -\\nten. Soweit dies für eine ordentliche Übergabe unerlässlich ist, \\nkönnen diese Zeiten um höchstens eine Stunde überschritten \\nwerden. Es ist anschliessend eine angemessene Ruhezeit zu \\ngewähren.\\n4 Die Vorsteherin bzw. der Vorsteher des Gesundheits- und Um -\\nweltdepartements wird ermächtigt, die Höchstarbeitszeit zu re -', metadata={'page': 1, 'source': 'data/KAR.pdf'})]\n"
     ]
    }
   ],
   "source": [
    "result = chroma_db.similarity_search(query)\n",
    "print(result)"
   ]
  },
  {
   "cell_type": "markdown",
   "metadata": {},
   "source": [
    "Similarity Search with Scores"
   ]
  },
  {
   "cell_type": "code",
   "execution_count": null,
   "metadata": {},
   "outputs": [],
   "source": [
    "result_with_scores = chroma_db.similarity_search_with_score(query)\n",
    "print(result_with_scores)"
   ]
  },
  {
   "cell_type": "code",
   "execution_count": null,
   "metadata": {},
   "outputs": [],
   "source": [
    "chain = RetrievalQA.from_chain_type(llm=llm, chain_type=\"stuff\", retriever=chroma_db.as_retriever())"
   ]
  },
  {
   "cell_type": "code",
   "execution_count": null,
   "metadata": {},
   "outputs": [],
   "source": [
    "response_file_path = \"responses.txt\""
   ]
  },
  {
   "cell_type": "code",
   "execution_count": null,
   "metadata": {},
   "outputs": [],
   "source": [
    "response = chain.invoke(query)\n",
    "print(response[\"result\"])\n",
    "\n",
    "with open(response_file_path, \"a\", encoding=\"utf-8\") as response_file:\n",
    "    response_file.write(\"1 \\n\"+response[\"query\"] +\"\\n\" +response[\"result\"] + \"\\n\")\n",
    "\n",
    "print(\"Response appended to\", response_file_path)"
   ]
  },
  {
   "cell_type": "markdown",
   "metadata": {},
   "source": [
    "### Test some queries Yourself"
   ]
  },
  {
   "cell_type": "code",
   "execution_count": null,
   "metadata": {},
   "outputs": [],
   "source": [
    "def get_response(query:str):\n",
    "    chain = RetrievalQA.from_chain_type(llm=llm, chain_type=\"stuff\", retriever=chroma_db.as_retriever())\n",
    "    response = chain.invoke(query)\n",
    "    print(response[\"result\"])\n",
    "    print(response)\n",
    "\n",
    "    with open(response_file_path, \"a\", encoding=\"utf-8\") as response_file:\n",
    "        response_file.write(\"// \\n\"+response[\"query\"] +\"\\n\" +response[\"result\"] +\"//\"+ \"\\n\")\n",
    "\n",
    "    print(\"Response appended to\", response_file_path)"
   ]
  },
  {
   "cell_type": "code",
   "execution_count": null,
   "metadata": {},
   "outputs": [],
   "source": [
    "get_response(\"Was ist der Inhalt des Dokumentes?\")"
   ]
  },
  {
   "cell_type": "code",
   "execution_count": 14,
   "metadata": {},
   "outputs": [
    {
     "name": "stdout",
     "output_type": "stream",
     "text": [
      "Loading Chroma\n",
      "This document is a regulation regarding the employment conditions of senior physicians (Kaderärztinnen and -ärzte) in city hospitals, specifically the Waid and Triemli hospitals. It covers aspects such as working hours, honorarium regulations, and the scope of application of the regulation.\n",
      "Response appended to responses.txt\n"
     ]
    },
    {
     "data": {
      "text/plain": [
       "'This document is a regulation regarding the employment conditions of senior physicians (Kaderärztinnen and -ärzte) in city hospitals, specifically the Waid and Triemli hospitals. It covers aspects such as working hours, honorarium regulations, and the scope of application of the regulation.'"
      ]
     },
     "execution_count": 14,
     "metadata": {},
     "output_type": "execute_result"
    }
   ],
   "source": [
    "import openai\n",
    "import os\n",
    "from dotenv import load_dotenv\n",
    "from langchain.document_loaders import PyPDFLoader\n",
    "from langchain.chains import RetrievalQA\n",
    "from langchain_openai import ChatOpenAI\n",
    "from langchain_openai import OpenAIEmbeddings\n",
    "from langchain.text_splitter import RecursiveCharacterTextSplitter\n",
    "from langchain.vectorstores import Chroma\n",
    "\n",
    "chroma_db = None\n",
    "llm = None\n",
    "\n",
    "def initialise_AI():\n",
    "\n",
    "\n",
    "    text_splitter = RecursiveCharacterTextSplitter(chunk_size=1000, chunk_overlap=100)\n",
    "    loader = PyPDFLoader(\"data/Personalrecht.pdf\")\n",
    "    chunks = loader.load_and_split(text_splitter)\n",
    "\n",
    "    # Load environment variables from .env file\n",
    "    load_dotenv()\n",
    "\n",
    "    # Access the API key using the variable name defined in the .env file\n",
    "    openai.api_key = os.getenv(\"OPENAI_API_KEY\")\n",
    "\n",
    "    # Initialize the OpenAI chat model\n",
    "    llm = ChatOpenAI(model_name=\"gpt-3.5-turbo\", temperature=0.8)\n",
    "\n",
    "    embeddings = OpenAIEmbeddings()\n",
    "    \n",
    "    if os.path.exists(\"chroma_db\"):\n",
    "        print(\"Loading Chroma\")\n",
    "        chroma_db =Chroma(persist_directory=\"chroma_db\", embedding_function= embeddings )\n",
    "    else: \n",
    "        print(\"Creat new Chroma\")\n",
    "        chroma_db = Chroma.from_documents(chunks, embeddings, persist_directory=\"chroma_db\")\n",
    "        \n",
    "    return chroma_db, llm\n",
    "        \n",
    "\n",
    "def get_response(query:str):\n",
    "\n",
    "    response_file_path = \"responses.txt\"\n",
    "\n",
    "    chain = RetrievalQA.from_chain_type(llm=llm, chain_type=\"stuff\", retriever=chroma_db.as_retriever())\n",
    "    response = chain.invoke(query)\n",
    "    print(response[\"result\"])\n",
    "\n",
    "    with open(response_file_path, \"a\", encoding=\"utf-8\") as response_file:\n",
    "        response_file.write(\"// \\n\" + response[\"query\"] + \"\\n\" + response[\"result\"] + \"//\" + \"\\n\")\n",
    "\n",
    "    print(\"Response appended to\", response_file_path)\n",
    "\n",
    "    return response[\"result\"]\n",
    "  \n",
    "        \n",
    "\n",
    "# Call initialise_AI before get_response\n",
    "chroma_db, llm = initialise_AI()\n",
    "get_response(\"What is this document about?\")\n"
   ]
  }
 ],
 "metadata": {
  "kernelspec": {
   "display_name": "venv",
   "language": "python",
   "name": "python3"
  },
  "language_info": {
   "codemirror_mode": {
    "name": "ipython",
    "version": 3
   },
   "file_extension": ".py",
   "mimetype": "text/x-python",
   "name": "python",
   "nbconvert_exporter": "python",
   "pygments_lexer": "ipython3",
   "version": "3.11.4"
  }
 },
 "nbformat": 4,
 "nbformat_minor": 2
}
